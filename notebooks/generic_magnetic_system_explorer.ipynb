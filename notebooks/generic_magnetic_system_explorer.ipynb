{
 "cells": [
  {
   "cell_type": "markdown",
   "metadata": {},
   "source": [
    "# Generic Magnetic System Explorer\n",
    "\n",
    "Interactive notebook for exploring magnetic systems with real-time visualization.\n",
    "Supports Fe, Ni, Co, Mn with live simulation monitoring and skyrmion-style plotting."
   ]
  },
  {
   "cell_type": "code",
   "execution_count": null,
   "metadata": {},
   "outputs": [],
   "source": [
    "import numpy as np\n",
    "import matplotlib.pyplot as plt\n",
    "from spinlab.analysis.visualization import SpinVisualizer\n",
    "import time\n",
    "\n",
    "# Initialize visualizer\n",
    "viz = SpinVisualizer()\n",
    "print(\"🧲 Generic Magnetic System Explorer Ready!\")"
   ]
  },
  {
   "cell_type": "markdown",
   "metadata": {},
   "source": [
    "## 1. Quick System Setup\n",
    "\n",
    "Create any magnetic system with minimal code:"
   ]
  },
  {
   "cell_type": "code",
   "execution_count": null,
   "metadata": {},
   "outputs": [],
   "source": [
    "# Quick system builder\n",
    "build_system = viz.create_system_builder()\n",
    "\n",
    "# Create Fe system (change material here: 'Fe', 'Ni', 'Co', 'Mn')\n",
    "material = 'Fe'\n",
    "system = build_system(\n",
    "    material=material, \n",
    "    size=(16, 16, 1),  # 16x16 2D system\n",
    "    J=-0.02,          # Exchange coupling\n",
    "    B_field=[0, 0, 0.1]  # Small z-field\n",
    ")\n",
    "\n",
    "print(f\"✅ {material} system created: {len(system.positions)} sites\")\n",
    "print(f\"Initial energy: {system.total_energy():.4f} eV\")"
   ]
  },
  {
   "cell_type": "markdown",
   "metadata": {},
   "source": [
    "## 2. Static Spin Configuration (Skyrmion Style)\n",
    "\n",
    "View current spin state with the skyrmion plotting style:"
   ]
  },
  {
   "cell_type": "code",
   "execution_count": null,
   "metadata": {},
   "outputs": [],
   "source": [
    "# Plot current configuration in skyrmion style\n",
    "viz.plot_spin_grid_skyrmion_style(\n",
    "    system.spin_config,\n",
    "    title=f\"{material} Spin Configuration (Random Initial State)\",\n",
    "    figsize=(8, 8)\n",
    ")"
   ]
  },
  {
   "cell_type": "markdown",
   "metadata": {},
   "source": [
    "## 3. Live Simulation with Real-Time Monitoring\n",
    "\n",
    "Run simulation with live updates of energy, magnetization, and spin configuration:"
   ]
  },
  {
   "cell_type": "code",
   "execution_count": null,
   "metadata": {},
   "outputs": [],
   "source": [
    "# Create live monitor\n",
    "monitor = viz.create_live_monitor(system, figsize=(15, 5))\n",
    "\n",
    "# Run live simulation\n",
    "result = viz.run_live_simulation(\n",
    "    system, \n",
    "    monitor, \n",
    "    temperature=100,    # Temperature in K\n",
    "    n_steps=1000,       # Total MC steps\n",
    "    update_every=50     # Update frequency\n",
    ")\n",
    "\n",
    "print(f\"\\n🎯 Final state: E = {result['final_energy']:.4f} eV, |M| = {np.linalg.norm(result['final_magnetization']):.3f}\")"
   ]
  },
  {
   "cell_type": "markdown",
   "metadata": {},
   "source": [
    "## 4. Temperature Sweep with Live Phase Diagram\n",
    "\n",
    "Explore phase transitions with live plotting:"
   ]
  },
  {
   "cell_type": "code",
   "execution_count": null,
   "metadata": {},
   "outputs": [],
   "source": [
    "# Temperature range for phase diagram\n",
    "T_range = np.linspace(50, 300, 15)  # 50K to 300K\n",
    "\n",
    "# Live temperature sweep\n",
    "phase_results = viz.temperature_sweep_live(\n",
    "    system, \n",
    "    T_range, \n",
    "    steps_per_T=200  # MC steps per temperature\n",
    ")\n",
    "\n",
    "print(f\"\\n📈 Phase diagram complete for {material}!\")"
   ]
  },
  {
   "cell_type": "markdown",
   "metadata": {},
   "source": [
    "## 5. Final Equilibrated Configuration\n",
    "\n",
    "View the final spin state after equilibration:"
   ]
  },
  {
   "cell_type": "code",
   "execution_count": null,
   "metadata": {},
   "outputs": [],
   "source": [
    "# Plot final equilibrated state\n",
    "viz.plot_spin_grid_skyrmion_style(\n",
    "    system.spin_config,\n",
    "    title=f\"{material} Final Equilibrated State\",\n",
    "    figsize=(8, 8)\n",
    ")\n",
    "\n",
    "# Summary\n",
    "print(f\"\\n📊 {material} System Summary:\")\n",
    "print(f\"   System size: {len(system.positions)} sites\")\n",
    "print(f\"   Final energy: {system.total_energy():.4f} eV\")\n",
    "print(f\"   Final |M|: {np.linalg.norm(system.total_magnetization()):.3f}\")"
   ]
  },
  {
   "cell_type": "markdown",
   "metadata": {},
   "source": [
    "## 6. Try Different Materials\n",
    "\n",
    "Quick comparison of different magnetic materials:"
   ]
  },
  {
   "cell_type": "code",
   "execution_count": null,
   "metadata": {},
   "outputs": [],
   "source": [
    "# Compare different materials\n",
    "materials = ['Fe', 'Ni', 'Co']\n",
    "fig, axes = plt.subplots(1, len(materials), figsize=(15, 5))\n",
    "\n",
    "for i, mat in enumerate(materials):\n",
    "    # Create system\n",
    "    sys = build_system(material=mat, size=(12, 12, 1), J=-0.02)\n",
    "    \n",
    "    # Quick equilibration\n",
    "    from spinlab.monte_carlo import MonteCarlo\n",
    "    mc = MonteCarlo(sys, temperature=150)\n",
    "    mc.run(n_steps=500, verbose=False)\n",
    "    \n",
    "    # Plot on subplot\n",
    "    plt.sca(axes[i])\n",
    "    \n",
    "    # Extract spin data for skyrmion-style plotting\n",
    "    spins = sys.spin_config\n",
    "    n_spins = len(spins)\n",
    "    grid_size = int(np.sqrt(n_spins))\n",
    "    \n",
    "    # Create grid positions\n",
    "    x_1d = np.arange(grid_size)\n",
    "    y_1d = np.arange(grid_size)\n",
    "    X, Y = np.meshgrid(x_1d, y_1d)\n",
    "    x, y = X.flatten(), Y.flatten()\n",
    "    \n",
    "    # Spin components\n",
    "    sx, sy, sz = spins[:, 0], spins[:, 1], spins[:, 2]\n",
    "    r = np.sqrt(sx**2 + sy**2 + sz**2)\n",
    "    background_colors = sz / r\n",
    "    \n",
    "    # Simple plotting (no tricontourf for subplot)\n",
    "    plt.scatter(x, y, c=background_colors, cmap='jet', s=15, vmin=-1, vmax=1)\n",
    "    plt.quiver(x, y, sx, sy, color='black', scale=30, width=0.002)\n",
    "    plt.title(f'{mat} (T=150K)')\n",
    "    plt.axis('equal')\n",
    "    plt.xlim(-1, grid_size)\n",
    "    plt.ylim(-1, grid_size)\n",
    "\n",
    "plt.tight_layout()\n",
    "plt.show()\n",
    "print(\"🔬 Material comparison complete!\")"
   ]
  },
  {
   "cell_type": "markdown",
   "metadata": {},
   "source": [
    "## 7. Performance Information\n",
    "\n",
    "Check simulation speed and system capabilities:"
   ]
  },
  {
   "cell_type": "code",
   "execution_count": null,
   "metadata": {},
   "outputs": [],
   "source": [
    "# Quick speed test\n",
    "print(\"⚡ Performance Test:\")\n",
    "test_system = build_system('Fe', size=(20, 20, 1))\n",
    "from spinlab.monte_carlo import MonteCarlo\n",
    "\n",
    "mc = MonteCarlo(test_system, temperature=100)\n",
    "start_time = time.time()\n",
    "mc.run(n_steps=100, verbose=False)\n",
    "elapsed = time.time() - start_time\n",
    "\n",
    "speed = 100 / elapsed\n",
    "print(f\"Speed: {speed:.1f} sweeps/s for {len(test_system.positions)} sites\")\n",
    "print(f\"Estimated time for 10k sweeps: {10000/speed:.1f} seconds\")\n",
    "\n",
    "# Numba status\n",
    "from spinlab.core.fast_ops import HAS_NUMBA\n",
    "print(f\"Numba acceleration: {'✅ Active' if HAS_NUMBA else '❌ Not available'}\")"
   ]
  }
 ],
 "metadata": {
  "kernelspec": {
   "display_name": "Python 3",
   "language": "python",
   "name": "python3"
  },
  "language_info": {
   "codemirror_mode": {
    "name": "ipython",
    "version": 3
   },
   "file_extension": ".py",
   "mimetype": "text/x-python",
   "name": "python",
   "nbconvert_exporter": "python",
   "pygments_lexer": "ipython3",
   "version": "3.9.0"
  }
 },
 "nbformat": 4,
 "nbformat_minor": 4
}