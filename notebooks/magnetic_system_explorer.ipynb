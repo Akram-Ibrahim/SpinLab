{
 "cells": [
  {
   "cell_type": "markdown",
   "metadata": {},
   "source": [
    "# Magnetic System Explorer\n",
    "\n",
    "Comprehensive notebook for magnetic system analysis with real-time visualization.\n",
    "Supports any magnetic material with interactive simulation and phase diagram generation."
   ]
  },
  {
   "cell_type": "code",
   "execution_count": 1,
   "metadata": {},
   "outputs": [
    {
     "name": "stdout",
     "output_type": "stream",
     "text": [
      "Magnetic System Explorer Ready!\n"
     ]
    }
   ],
   "source": [
    "import numpy as np\n",
    "import matplotlib.pyplot as plt\n",
    "from spinlab.analysis.visualization import SpinVisualizer\n",
    "from spinlab.core.spin_system import SpinSystem\n",
    "from spinlab.core.hamiltonian import Hamiltonian\n",
    "from ase.io import read\n",
    "from ase.build import bulk, make_supercell\n",
    "import time\n",
    "\n",
    "# Configure matplotlib for notebook\n",
    "%matplotlib inline\n",
    "\n",
    "# Initialize visualizer\n",
    "viz = SpinVisualizer()\n",
    "print(\"Magnetic System Explorer Ready!\")"
   ]
  },
  {
   "cell_type": "code",
   "metadata": {},
   "outputs": [],
   "source": "# System parameters - MODIFY THESE FOR YOUR ANALYSIS\n##################\n\n# Structure parameters\nMATERIAL = 'Fe'               # Material symbol for ASE\nCRYSTAL = 'bcc'               # Crystal structure\nLATTICE_PARAM = 2.87          # Lattice parameter (Å)\nn_cells = 8                   # Supercell size (8x8x1)\nSYSTEM_SIZE = (n_cells, n_cells, 1)\n\n# Create ASE structure\nstructure = bulk(MATERIAL, CRYSTAL, a=LATTICE_PARAM, cubic=True)\nstructure = structure.repeat(SYSTEM_SIZE)\n\nprint(f\"Created structure: {len(structure)} atoms ({MATERIAL} {CRYSTAL})\")\n\n# Exchange interactions (eV)\nJ1 = -0.02                    # 1st neighbor exchange\nJ2 = 0.0                      # 2nd neighbor exchange\nJ3 = 0.0                      # 3rd neighbor exchange\n\n# Anisotropic exchange (eV) - for 1st neighbors only\nJxx = 0.0; Jyy = 0.0; Jzz = 0.0\nJxy = 0.0; Jxz = 0.0; Jyz = 0.0\n\n# Single-ion anisotropy (eV)\nA = 0.0                       # Easy-axis anisotropy\n\n# External fields\ng = 2.0                       # g-factor\ngamma = 0.0                   # Electric coupling (e·Å)\nB_z = 0.0                     # Magnetic field (Tesla)\nE_z = 0.0                     # Electric field (V/Å)\n\n# Neighbor cutoffs (Å) - you still need to define these\ncutoff_distance = 3.5         # 1st neighbor cutoff\nsecond_cutoff = 4.9           # 2nd neighbor cutoff  \nthird_cutoff = 6.1            # 3rd neighbor cutoff\n\n# Simulation parameters\ntemperature = 100             # Temperature (K)\nspin_magnitude = 1.0          # Spin magnitude\nmodel_type = '3D'             # 'Ising', 'XY', '3D'\nangular_res = 1.0             # Angular resolution (degrees)\n\n# Monte Carlo parameters\nMC_STEPS = 1000\nUPDATE_INTERVAL = 50\n\nprint(f\"Parameters set: J1={J1}, T={temperature}K, Model={model_type}\")"
  },
  {
   "cell_type": "code",
   "metadata": {},
   "outputs": [],
   "source": "# Create comprehensive Hamiltonian\n##################\n\n# Optional: Define magnetic species for multi-component systems\n# magnetic_species = ['Fe', 'Ni']  # Only consider these atoms as magnetic\nmagnetic_species = None  # None = all atoms are magnetic\n\nhamiltonian = Hamiltonian(magnetic_species=magnetic_species)\n\n# Filter structure if magnetic species are specified\nif magnetic_species is not None:\n    structure, index_map = hamiltonian.filter_magnetic_atoms(structure)\n    print(f\"Using magnetic species filtering: {magnetic_species}\")\nelse:\n    index_map = None\n    print(f\"All atoms considered magnetic\")\n\n# Add exchange interactions for multiple shells\nif J1 != 0.0:\n    hamiltonian.add_exchange(J=J1, neighbor_shell=\"shell_1\", name=\"J1_exchange\")\nif J2 != 0.0:\n    hamiltonian.add_exchange(J=J2, neighbor_shell=\"shell_2\", name=\"J2_exchange\")\nif J3 != 0.0:\n    hamiltonian.add_exchange(J=J3, neighbor_shell=\"shell_3\", name=\"J3_exchange\")\n\n# Add anisotropic exchange (using Kitaev terms for directional coupling)\nif any([Jxx, Jyy, Jzz]) != 0.0:\n    hamiltonian.add_kitaev(\n        K_couplings={\"x\": Jxx, \"y\": Jyy, \"z\": Jzz},\n        neighbor_shell=\"shell_1\",\n        name=\"anisotropic_exchange\"\n    )\n\n# Add single-ion anisotropy\nif A != 0.0:\n    hamiltonian.add_single_ion_anisotropy(K=A, axis=[0, 0, 1], name=\"easy_axis\")\n\n# Add magnetic field (Zeeman term)\nif B_z != 0.0:\n    hamiltonian.add_magnetic_field(B_field=[0, 0, B_z], g_factor=g, name=\"zeeman\")\n\n# Add electric field coupling\nif E_z != 0.0:\n    hamiltonian.add_electric_field(E_field=[0, 0, E_z], gamma=gamma, name=\"electric\")\n\nprint(\"Hamiltonian terms added:\")\nfor i, name in enumerate(hamiltonian.term_names):\n    print(f\"  {i+1}. {name}\")"
  },
  {
   "cell_type": "code",
   "metadata": {},
   "outputs": [],
   "source": "# Create SpinSystem\n##################\nsystem = SpinSystem(\n    structure=structure,\n    hamiltonian=hamiltonian,\n    magnetic_model=model_type.lower(),\n    spin_magnitude=spin_magnitude\n)\n\n# Setup neighbor shells\n##################\n# Note: You still need to define cutoff distances manually\n# SpinLab automatically creates \"shell_1\", \"shell_2\", etc. based on cutoff order\ncutoffs = [cutoff_distance]\nif J2 != 0.0:\n    cutoffs.append(second_cutoff)\nif J3 != 0.0:\n    cutoffs.append(third_cutoff)\n\nneighbors = system.get_neighbors(cutoffs)\n\nprint(\"Neighbor shells setup:\")\nfor shell, neighbor_array in neighbors.items():\n    avg_neighbors = np.mean(np.sum(neighbor_array >= 0, axis=1))\n    print(f\"  {shell}: {neighbor_array.shape} (avg {avg_neighbors:.1f} neighbors/site)\")\n\n# Initialize spin configuration based on model type\n##################\nif model_type.lower() == 'ising':\n    # Ising: ±Z spins only - need to implement this method\n    print(\"Ising model: initializing ±Z spins\")\n    # For now, use random and constrain to ±Z\n    system.random_configuration()\n    # Constrain to ±Z directions\n    system.spin_config[:, :2] = 0  # Zero x,y components\n    system.spin_config[:, 2] = np.sign(system.spin_config[:, 2]) * spin_magnitude\nelif model_type.lower() == 'xy':\n    # XY: spins in xy-plane\n    print(\"XY model: initializing xy-plane spins\")\n    system.random_configuration()\n    # Constrain to xy-plane\n    system.spin_config[:, 2] = 0  # Zero z component\n    # Normalize xy components\n    xy_norm = np.linalg.norm(system.spin_config[:, :2], axis=1, keepdims=True)\n    system.spin_config[:, :2] = system.spin_config[:, :2] / xy_norm * spin_magnitude\nelse:\n    # 3D: random 3D configuration\n    print(\"3D model: initializing random 3D spins\")\n    system.random_configuration()\n\n# System information\n##################\ninitial_energy = system.calculate_energy()\ninitial_magnetization = system.calculate_magnetization()\n\nprint(f\"\\nSystem created: {len(system.positions)} magnetic sites\")\nprint(f\"Initial energy: {initial_energy:.4f} eV\")\nprint(f\"Initial |M|: {np.linalg.norm(initial_magnetization):.3f}\")\nprint(f\"Spin configuration shape: {system.spin_config.shape}\")\nprint(f\"Energy per site: {initial_energy/len(system.positions):.6f} eV\")"
  },
  {
   "cell_type": "markdown",
   "source": "## Initial Spin Configuration\n\nVisualize the random initial spin state:",
   "metadata": {}
  },
  {
   "cell_type": "code",
   "source": "# Plot initial random configuration using actual positions\nviz.plot_spin_configuration(\n    system.positions,\n    system.spin_config,\n    title=f\"{MATERIAL} Initial Random Configuration\",\n    figsize=(8, 8)\n)",
   "metadata": {},
   "outputs": []
  }
 ],
 "metadata": {
  "kernelspec": {
   "display_name": "Python 3 (ipykernel)",
   "language": "python",
   "name": "python3"
  },
  "language_info": {
   "codemirror_mode": {
    "name": "ipython",
    "version": 3
   },
   "file_extension": ".py",
   "mimetype": "text/x-python",
   "name": "python",
   "nbconvert_exporter": "python",
   "pygments_lexer": "ipython3",
   "version": "3.9.19"
  }
 },
 "nbformat": 4,
 "nbformat_minor": 4
}