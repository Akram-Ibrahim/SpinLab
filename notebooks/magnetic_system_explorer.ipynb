{
 "cells": [
  {
   "cell_type": "markdown",
   "metadata": {},
   "source": [
    "# Magnetic System Explorer\n",
    "\n",
    "Comprehensive notebook for magnetic system analysis with real-time visualization.\n",
    "Supports any magnetic material with interactive simulation and phase diagram generation."
   ]
  },
  {
   "cell_type": "code",
   "execution_count": 1,
   "metadata": {},
   "outputs": [
    {
     "name": "stdout",
     "output_type": "stream",
     "text": [
      "Magnetic System Explorer Ready!\n"
     ]
    }
   ],
   "source": [
    "import numpy as np\n",
    "import matplotlib.pyplot as plt\n",
    "from spinlab.analysis.visualization import SpinVisualizer\n",
    "from spinlab.core.spin_system import SpinSystem\n",
    "from spinlab.core.hamiltonian import Hamiltonian\n",
    "from ase.io import read\n",
    "from ase.build import bulk, make_supercell\n",
    "import time\n",
    "\n",
    "# Configure matplotlib for notebook\n",
    "%matplotlib inline\n",
    "\n",
    "# Initialize visualizer\n",
    "viz = SpinVisualizer()\n",
    "print(\"Magnetic System Explorer Ready!\")"
   ]
  },
  {
   "cell_type": "code",
   "metadata": {},
   "outputs": [],
   "source": "# System parameters - MODIFY THESE FOR YOUR ANALYSIS\n##################\n\n# Structure parameters\nmaterial = 'Fe'               # Material symbol for ASE\ncrystal = 'bcc'               # Crystal structure\nlattice_param = 2.87          # Lattice parameter (Å)\nn_cells = 8                   # Supercell size (8x8x1)\nsystem_size = (n_cells, n_cells, 1)\n\n# Create ASE structure\nstructure = bulk(material, crystal, a=lattice_param, cubic=True)\nstructure = structure.repeat(system_size)\n\nprint(f\"Created structure: {len(structure)} atoms ({material} {crystal})\")\n\n# Exchange interactions (eV)\nj1 = -0.02                    # 1st neighbor exchange\nj2 = 0.0                      # 2nd neighbor exchange\nj3 = 0.0                      # 3rd neighbor exchange\n\n# Anisotropic exchange (eV) - for 1st neighbors only\njxx = 0.0; jyy = 0.0; jzz = 0.0\njxy = 0.0; jxz = 0.0; jyz = 0.0\n\n# Single-ion anisotropy (eV)\nanisotropy = 0.0              # Easy-axis anisotropy\n\n# External fields\ng_factor = 2.0                # g-factor\ngamma = 0.0                   # Electric coupling (e·Å)\nb_field = 0.0                 # Magnetic field (Tesla)\ne_field = 0.0                 # Electric field (V/Å)\n\n# Neighbor cutoffs (Å) - you still need to define these\ncutoff_distance = 3.5         # 1st neighbor cutoff\nsecond_cutoff = 4.9           # 2nd neighbor cutoff  \nthird_cutoff = 6.1            # 3rd neighbor cutoff\n\n# Simulation parameters\ntemperature = 100             # Temperature (K)\nspin_magnitude = 1.0          # Spin magnitude\nmodel_type = '3D'             # 'Ising', 'XY', '3D'\nangular_res = 1.0             # Angular resolution (degrees)\n\n# Monte Carlo parameters\nmc_steps = 1000\nupdate_interval = 50\n\nprint(f\"Parameters set: j1={j1}, T={temperature}K, Model={model_type}\")"
  },
  {
   "cell_type": "code",
   "metadata": {},
   "outputs": [],
   "source": "# Create comprehensive Hamiltonian\n##################\n\n# Optional: Define non-magnetic species for multi-component systems\n# nonmagnetic_species = ['O', 'H']  # Remove these atoms from magnetic simulation\nnonmagnetic_species = None  # None = all atoms are magnetic (intuitive!)\n\nhamiltonian = Hamiltonian(nonmagnetic_species=nonmagnetic_species)\n\n# Filter structure if non-magnetic species are specified\nif nonmagnetic_species is not None:\n    structure, index_map = hamiltonian.filter_magnetic_atoms(structure)\n    print(f\"Removed non-magnetic species: {nonmagnetic_species}\")\nelse:\n    index_map = None\n    print(\"All atoms considered magnetic\")\n\n# Add exchange interactions for multiple shells\nif j1 != 0.0:\n    hamiltonian.add_exchange(J=j1, neighbor_shell=\"shell_1\", name=\"j1_exchange\")\nif j2 != 0.0:\n    hamiltonian.add_exchange(J=j2, neighbor_shell=\"shell_2\", name=\"j2_exchange\")\nif j3 != 0.0:\n    hamiltonian.add_exchange(J=j3, neighbor_shell=\"shell_3\", name=\"j3_exchange\")\n\n# Add anisotropic exchange (using Kitaev terms for directional coupling)\nif any([jxx, jyy, jzz]) != 0.0:\n    hamiltonian.add_kitaev(\n        K_couplings={\"x\": jxx, \"y\": jyy, \"z\": jzz},\n        neighbor_shell=\"shell_1\",\n        name=\"anisotropic_exchange\"\n    )\n\n# Add single-ion anisotropy\nif anisotropy != 0.0:\n    hamiltonian.add_single_ion_anisotropy(K=anisotropy, axis=[0, 0, 1], name=\"easy_axis\")\n\n# Add magnetic field (Zeeman term)\nif b_field != 0.0:\n    hamiltonian.add_magnetic_field(B_field=[0, 0, b_field], g_factor=g_factor, name=\"zeeman\")\n\n# Add electric field coupling\nif e_field != 0.0:\n    hamiltonian.add_electric_field(E_field=[0, 0, e_field], gamma=gamma, name=\"electric\")\n\nprint(\"Hamiltonian terms added:\")\nfor i, name in enumerate(hamiltonian.term_names):\n    print(f\"  {i+1}. {name}\")"
  },
  {
   "cell_type": "code",
   "metadata": {},
   "outputs": [],
   "source": "# Create SpinSystem\n##################\nsystem = SpinSystem(\n    structure=structure,\n    hamiltonian=hamiltonian,\n    magnetic_model=model_type.lower(),\n    spin_magnitude=spin_magnitude\n)\n\n# Setup neighbor shells\n##################\n# Note: You still need to define cutoff distances manually\n# SpinLab automatically creates \"shell_1\", \"shell_2\", etc. based on cutoff order\ncutoffs = [cutoff_distance]\nif j2 != 0.0:\n    cutoffs.append(second_cutoff)\nif j3 != 0.0:\n    cutoffs.append(third_cutoff)\n\nneighbors = system.get_neighbors(cutoffs)\n\nprint(\"Neighbor shells setup:\")\nfor shell, neighbor_array in neighbors.items():\n    avg_neighbors = np.mean(np.sum(neighbor_array >= 0, axis=1))\n    print(f\"  {shell}: {neighbor_array.shape} (avg {avg_neighbors:.1f} neighbors/site)\")\n\n# Initialize spin configuration based on model type\n##################\nif model_type.lower() == 'ising':\n    # Ising: ±Z spins only - need to implement this method\n    print(\"Ising model: initializing ±Z spins\")\n    # For now, use random and constrain to ±Z\n    system.random_configuration()\n    # Constrain to ±Z directions\n    system.spin_config[:, :2] = 0  # Zero x,y components\n    system.spin_config[:, 2] = np.sign(system.spin_config[:, 2]) * spin_magnitude\nelif model_type.lower() == 'xy':\n    # XY: spins in xy-plane\n    print(\"XY model: initializing xy-plane spins\")\n    system.random_configuration()\n    # Constrain to xy-plane\n    system.spin_config[:, 2] = 0  # Zero z component\n    # Normalize xy components\n    xy_norm = np.linalg.norm(system.spin_config[:, :2], axis=1, keepdims=True)\n    system.spin_config[:, :2] = system.spin_config[:, :2] / xy_norm * spin_magnitude\nelse:\n    # 3D: random 3D configuration\n    print(\"3D model: initializing random 3D spins\")\n    system.random_configuration()\n\n# System information\n##################\ninitial_energy = system.calculate_energy()\ninitial_magnetization = system.calculate_magnetization()\n\nprint(f\"\\nSystem created: {len(system.positions)} magnetic sites\")\nprint(f\"Initial energy: {initial_energy:.4f} eV\")\nprint(f\"Initial |M|: {np.linalg.norm(initial_magnetization):.3f}\")\nprint(f\"Spin configuration shape: {system.spin_config.shape}\")\nprint(f\"Energy per site: {initial_energy/len(system.positions):.6f} eV\")"
  },
  {
   "cell_type": "markdown",
   "source": "## Initial Spin Configuration\n\nVisualize the random initial spin state:",
   "metadata": {}
  },
  {
   "cell_type": "code",
   "source": "# Plot initial random configuration using actual positions\nviz.plot_spin_configuration(\n    system.positions,\n    system.spin_config,\n    title=f\"{material} Initial Random Configuration\",\n    figsize=(8, 8)\n)",
   "metadata": {},
   "outputs": []
  },
  {
   "cell_type": "markdown",
   "source": "## Real-time Monte Carlo Simulation\n\nMonitor the simulation progress with live energy and magnetization tracking:",
   "metadata": {}
  },
  {
   "cell_type": "code",
   "source": "# Real-time Monte Carlo simulation with progress tracking\n##################\n\nfrom spinlab.simulation.monte_carlo import MonteCarloSimulator\nfrom IPython.display import display, clear_output\nimport matplotlib.pyplot as plt\n\n# Initialize Monte Carlo simulator\nmc_sim = MonteCarloSimulator(system, temperature)\n\n# Storage for tracking simulation progress\nenergy_history = []\nmagnetization_history = []\ntime_history = []\n\n# Real-time simulation function\ndef run_realtime_simulation(steps, update_interval=50):\n    \"\"\"Run Monte Carlo with real-time progress visualization.\"\"\"\n    \n    fig, ((ax1, ax2), (ax3, ax4)) = plt.subplots(2, 2, figsize=(15, 10))\n    \n    for step in range(steps):\n        # Perform Monte Carlo step\n        mc_sim.single_sweep()\n        \n        # Track properties every few steps\n        if step % 10 == 0:\n            energy = system.calculate_energy()\n            magnetization = np.linalg.norm(system.calculate_magnetization())\n            \n            energy_history.append(energy)\n            magnetization_history.append(magnetization)\n            time_history.append(step)\n        \n        # Update visualization every update_interval steps\n        if step % update_interval == 0 and step > 0:\n            clear_output(wait=True)\n            \n            # Plot 1: Current spin configuration\n            ax1.clear()\n            viz.plot_spin_configuration(\n                system.positions,\n                system.spin_config,\n                title=f\"Step {step}: {material} Spin Configuration\",\n                ax=ax1\n            )\n            \n            # Plot 2: Energy evolution\n            ax2.clear()\n            ax2.plot(time_history, energy_history, 'b-', linewidth=2)\n            ax2.set_xlabel('MC Steps')\n            ax2.set_ylabel('Energy (eV)')\n            ax2.set_title('Energy Evolution')\n            ax2.grid(True, alpha=0.3)\n            \n            # Plot 3: Magnetization evolution\n            ax3.clear()\n            ax3.plot(time_history, magnetization_history, 'r-', linewidth=2)\n            ax3.set_xlabel('MC Steps')\n            ax3.set_ylabel('|Magnetization|')\n            ax3.set_title('Magnetization Evolution')\n            ax3.grid(True, alpha=0.3)\n            \n            # Plot 4: Phase space trajectory (Energy vs Magnetization)\n            ax4.clear()\n            ax4.scatter(energy_history, magnetization_history, c=time_history, \n                       cmap='viridis', s=20, alpha=0.7)\n            ax4.set_xlabel('Energy (eV)')\n            ax4.set_ylabel('|Magnetization|')\n            ax4.set_title('Phase Space Trajectory')\n            ax4.grid(True, alpha=0.3)\n            \n            plt.tight_layout()\n            display(fig)\n            \n            # Print current status\n            current_energy = energy_history[-1] if energy_history else 0\n            current_mag = magnetization_history[-1] if magnetization_history else 0\n            print(f\"Step {step}: E = {current_energy:.4f} eV, |M| = {current_mag:.3f}\")\n    \n    return energy_history, magnetization_history, time_history\n\nprint(\"Ready to run real-time simulation!\")\nprint(f\"Will run {mc_steps} steps with updates every {update_interval} steps\")",
   "metadata": {},
   "outputs": []
  },
  {
   "cell_type": "code",
   "source": "# Run the real-time simulation\n##################\nprint(\"Starting real-time Monte Carlo simulation...\")\nprint(\"Watch the spin configuration evolve and track thermodynamic properties!\")\n\n# Run simulation with real-time monitoring\nfinal_energy, final_mag, final_time = run_realtime_simulation(\n    mc_steps, \n    update_interval=update_interval\n)\n\nprint(f\"\\nSimulation completed!\")\nprint(f\"Final energy: {final_energy[-1]:.4f} eV\")\nprint(f\"Final |magnetization|: {final_mag[-1]:.3f}\")\nprint(f\"Total steps: {final_time[-1]}\")",
   "metadata": {},
   "outputs": []
  },
  {
   "cell_type": "markdown",
   "source": "## Temperature Sweep Analysis\n\nPerform comprehensive thermodynamic analysis across temperature range:",
   "metadata": {}
  },
  {
   "cell_type": "code",
   "source": "# Temperature sweep for thermodynamic analysis\n##################\n\ndef temperature_sweep_analysis(t_min=10, t_max=500, n_temps=20, equilibration_steps=500, sampling_steps=1000):\n    \"\"\"\n    Comprehensive temperature sweep analysis matching SpinMCPack workflow.\n    \n    Args:\n        t_min, t_max: Temperature range (K)\n        n_temps: Number of temperature points\n        equilibration_steps: Steps for equilibration at each temperature\n        sampling_steps: Steps for property sampling\n    \"\"\"\n    \n    # Temperature range\n    temperatures = np.linspace(t_min, t_max, n_temps)\n    \n    # Storage arrays\n    avg_energy = np.zeros(n_temps)\n    avg_magnetization = np.zeros(n_temps)\n    heat_capacity = np.zeros(n_temps)\n    magnetic_susceptibility = np.zeros(n_temps)\n    \n    # Simulation results tracking\n    all_energies = []\n    all_magnetizations = []\n    \n    print(f\"Temperature sweep: {t_min}K → {t_max}K ({n_temps} points)\")\n    print(\"This replicates the comprehensive SpinMCPack workflow...\")\n    \n    for i, temp in enumerate(temperatures):\n        print(f\"\\nTemperature {i+1}/{n_temps}: {temp:.1f}K\")\n        \n        # Update Monte Carlo temperature\n        mc_sim.temperature = temp\n        \n        # Equilibration phase\n        print(f\"  Equilibrating for {equilibration_steps} steps...\")\n        for _ in range(equilibration_steps):\n            mc_sim.single_sweep()\n        \n        # Sampling phase\n        energies = []\n        magnetizations = []\n        \n        print(f\"  Sampling for {sampling_steps} steps...\")\n        for step in range(sampling_steps):\n            mc_sim.single_sweep()\n            \n            # Sample properties every 10 steps\n            if step % 10 == 0:\n                energy = system.calculate_energy()\n                mag_vector = system.calculate_magnetization()\n                mag_magnitude = np.linalg.norm(mag_vector)\n                \n                energies.append(energy)\n                magnetizations.append(mag_magnitude)\n        \n        # Calculate thermodynamic properties\n        energies = np.array(energies)\n        magnetizations = np.array(magnetizations)\n        \n        # Averages\n        avg_energy[i] = np.mean(energies)\n        avg_magnetization[i] = np.mean(magnetizations)\n        \n        # Fluctuations for response functions\n        energy_fluctuation = np.var(energies)\n        mag_fluctuation = np.var(magnetizations)\n        \n        # Heat capacity: C = (⟨E²⟩ - ⟨E⟩²) / (k_B T²)\n        # Using k_B in eV/K: 8.617e-5\n        k_B = 8.617e-5  # eV/K\n        heat_capacity[i] = energy_fluctuation / (k_B * temp**2)\n        \n        # Magnetic susceptibility: χ = (⟨M²⟩ - ⟨M⟩²) / (k_B T)\n        magnetic_susceptibility[i] = mag_fluctuation / (k_B * temp)\n        \n        # Store full data\n        all_energies.append(energies)\n        all_magnetizations.append(magnetizations)\n        \n        print(f\"  ⟨E⟩ = {avg_energy[i]:.4f} eV, ⟨|M|⟩ = {avg_magnetization[i]:.3f}\")\n        print(f\"  C = {heat_capacity[i]:.2e}, χ = {magnetic_susceptibility[i]:.2e}\")\n    \n    return {\n        'temperatures': temperatures,\n        'avg_energy': avg_energy,\n        'avg_magnetization': avg_magnetization, \n        'heat_capacity': heat_capacity,\n        'magnetic_susceptibility': magnetic_susceptibility,\n        'all_energies': all_energies,\n        'all_magnetizations': all_magnetizations\n    }\n\nprint(\"Temperature sweep analysis function ready!\")\nprint(\"This will replicate the comprehensive SpinMCPack thermodynamic analysis\")",
   "metadata": {},
   "outputs": []
  },
  {
   "cell_type": "code",
   "source": "# Run temperature sweep (uncomment to execute)\n##################\n\n# CAUTION: This may take significant time depending on parameters\n# Adjust temperature range and steps for your system\n\nrun_temperature_sweep = False  # Set to True to run\n\nif run_temperature_sweep:\n    print(\"Running comprehensive temperature sweep...\")\n    \n    # Quick sweep for demonstration\n    results = temperature_sweep_analysis(\n        t_min=50,          # Start temperature (K)\n        t_max=300,         # End temperature (K)  \n        n_temps=10,        # Number of temperature points\n        equilibration_steps=200,  # Equilibration steps per temperature\n        sampling_steps=500        # Sampling steps per temperature\n    )\n    \n    # Store results for plotting\n    temp_sweep_results = results\n    print(\"Temperature sweep completed!\")\n    \nelse:\n    print(\"Temperature sweep not executed (set run_temperature_sweep=True to run)\")\n    print(\"This will generate comprehensive thermodynamic data like SpinMCPack\")",
   "metadata": {},
   "outputs": []
  },
  {
   "cell_type": "markdown",
   "source": "## Comprehensive Analysis and Visualization\n\nCreate publication-quality plots of thermodynamic properties:",
   "metadata": {}
  }
 ],
 "metadata": {
  "kernelspec": {
   "display_name": "Python 3 (ipykernel)",
   "language": "python",
   "name": "python3"
  },
  "language_info": {
   "codemirror_mode": {
    "name": "ipython",
    "version": 3
   },
   "file_extension": ".py",
   "mimetype": "text/x-python",
   "name": "python",
   "nbconvert_exporter": "python",
   "pygments_lexer": "ipython3",
   "version": "3.9.19"
  }
 },
 "nbformat": 4,
 "nbformat_minor": 4
}